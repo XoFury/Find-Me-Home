{
 "cells": [
  {
   "cell_type": "code",
   "execution_count": 1,
   "id": "3da92b3b-0ca9-4995-ba41-5bae969356ff",
   "metadata": {},
   "outputs": [
    {
     "name": "stdout",
     "output_type": "stream",
     "text": [
      "Defaulting to user installation because normal site-packages is not writeable\n",
      "Collecting pandas\n",
      "  Downloading pandas-2.2.3-cp313-cp313-win_amd64.whl.metadata (19 kB)\n",
      "Requirement already satisfied: numpy>=1.26.0 in c:\\users\\lenovo\\appdata\\roaming\\python\\python313\\site-packages (from pandas) (2.2.4)\n",
      "Requirement already satisfied: python-dateutil>=2.8.2 in c:\\users\\lenovo\\appdata\\roaming\\python\\python313\\site-packages (from pandas) (2.9.0.post0)\n",
      "Collecting pytz>=2020.1 (from pandas)\n",
      "  Downloading pytz-2025.2-py2.py3-none-any.whl.metadata (22 kB)\n",
      "Collecting tzdata>=2022.7 (from pandas)\n",
      "  Downloading tzdata-2025.2-py2.py3-none-any.whl.metadata (1.4 kB)\n",
      "Requirement already satisfied: six>=1.5 in c:\\users\\lenovo\\appdata\\roaming\\python\\python313\\site-packages (from python-dateutil>=2.8.2->pandas) (1.17.0)\n",
      "Downloading pandas-2.2.3-cp313-cp313-win_amd64.whl (11.5 MB)\n",
      "   ---------------------------------------- 0.0/11.5 MB ? eta -:--:--\n",
      "   --- ------------------------------------ 1.0/11.5 MB 5.4 MB/s eta 0:00:02\n",
      "   ------ --------------------------------- 1.8/11.5 MB 4.6 MB/s eta 0:00:03\n",
      "   ---------- ----------------------------- 2.9/11.5 MB 4.3 MB/s eta 0:00:03\n",
      "   ------------ --------------------------- 3.7/11.5 MB 4.2 MB/s eta 0:00:02\n",
      "   --------------- ------------------------ 4.5/11.5 MB 4.1 MB/s eta 0:00:02\n",
      "   ----------------- ---------------------- 5.0/11.5 MB 4.1 MB/s eta 0:00:02\n",
      "   --------------------- ------------------ 6.0/11.5 MB 4.0 MB/s eta 0:00:02\n",
      "   ------------------------ --------------- 7.1/11.5 MB 4.0 MB/s eta 0:00:02\n",
      "   --------------------------- ------------ 7.9/11.5 MB 4.0 MB/s eta 0:00:01\n",
      "   ------------------------------ --------- 8.7/11.5 MB 4.0 MB/s eta 0:00:01\n",
      "   -------------------------------- ------- 9.4/11.5 MB 4.0 MB/s eta 0:00:01\n",
      "   ----------------------------------- ---- 10.2/11.5 MB 4.0 MB/s eta 0:00:01\n",
      "   ---------------------------------------  11.3/11.5 MB 4.0 MB/s eta 0:00:01\n",
      "   ---------------------------------------- 11.5/11.5 MB 3.9 MB/s eta 0:00:00\n",
      "Downloading pytz-2025.2-py2.py3-none-any.whl (509 kB)\n",
      "Downloading tzdata-2025.2-py2.py3-none-any.whl (347 kB)\n",
      "Installing collected packages: pytz, tzdata, pandas\n",
      "Successfully installed pandas-2.2.3 pytz-2025.2 tzdata-2025.2\n"
     ]
    }
   ],
   "source": [
    "!pip install pandas"
   ]
  },
  {
   "cell_type": "code",
   "execution_count": 2,
   "id": "cb249dbf-e28a-4a91-a1e8-d34f4e300deb",
   "metadata": {},
   "outputs": [],
   "source": [
    "import pandas as pd"
   ]
  },
  {
   "cell_type": "code",
   "execution_count": 3,
   "id": "0fdd1ef1-fd3e-4e5d-9525-fbba624a55ed",
   "metadata": {},
   "outputs": [
    {
     "name": "stdout",
     "output_type": "stream",
     "text": [
      "Students Records\n",
      "\n",
      "    student  marks  rank\n",
      "0   Shayan     95     1\n",
      "1    Ankan     84     4\n",
      "2   Arpita     90     2\n",
      "3  Kaushik     79     5\n",
      "4   Srijit     89     3\n"
     ]
    }
   ],
   "source": [
    "data = {\n",
    "    'student': [\"Shayan\", \"Ankan\", \"Arpita\", \"Kaushik\", \"Srijit\"],\n",
    "    'marks': [95, 84, 90, 79, 89],\n",
    "    'rank': [1, 4, 2, 5, 3]\n",
    "}\n",
    "res = pd.DataFrame(data)\n",
    "\n",
    "print (\"Students Records\\n\\n\",res)"
   ]
  },
  {
   "cell_type": "code",
   "execution_count": null,
   "id": "d5c3267f-e853-4193-aeca-971af3cfe680",
   "metadata": {},
   "outputs": [],
   "source": []
  }
 ],
 "metadata": {
  "kernelspec": {
   "display_name": "Python 3 (ipykernel)",
   "language": "python",
   "name": "python3"
  },
  "language_info": {
   "codemirror_mode": {
    "name": "ipython",
    "version": 3
   },
   "file_extension": ".py",
   "mimetype": "text/x-python",
   "name": "python",
   "nbconvert_exporter": "python",
   "pygments_lexer": "ipython3",
   "version": "3.13.2"
  }
 },
 "nbformat": 4,
 "nbformat_minor": 5
}
